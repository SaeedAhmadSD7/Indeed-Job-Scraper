{
 "cells": [
  {
   "cell_type": "code",
   "execution_count": 1,
   "metadata": {
    "collapsed": true
   },
   "outputs": [],
   "source": [
    "from time import sleep\n",
    "from selenium import webdriver\n",
    "from selenium.common.exceptions import ElementNotVisibleException\n",
    "from selenium.common.exceptions import NoSuchElementException\n",
    "import pandas as pd\n",
    "import random"
   ]
  },
  {
   "cell_type": "code",
   "execution_count": null,
   "metadata": {
    "collapsed": true
   },
   "outputs": [],
   "source": []
  },
  {
   "cell_type": "code",
   "execution_count": 8,
   "metadata": {
    "collapsed": true
   },
   "outputs": [],
   "source": []
  },
  {
   "cell_type": "code",
   "execution_count": 13,
   "metadata": {
    "collapsed": true
   },
   "outputs": [],
   "source": [
    "def scrap_indeed(search,max_search = 100,save_csv = True):\n",
    "    search_term = search.replace(' ','+')\n",
    "    url = 'https://www.indeed.com/jobs?q={}&limit=50&radius=25&start=0'.format(search_term)\n",
    "    browser = webdriver.Chrome('C:/Program Files (x86)/chromedriver.exe')\n",
    "    browser.get(url)\n",
    "    \n",
    "    try:\n",
    "        close_button = browser.find_element_by_id('prime-popover-close-button')\n",
    "        close_button.click()\n",
    "    except (ElementNotVisibleException, NoSuchElementException):\n",
    "        print('No Popup')\n",
    "        \n",
    "    max_rating = browser.find_element_by_class_name('ratings').size['width']\n",
    "    data = pd.DataFrame(columns = ['Job_Title','Company','Estimated_Salary','Date_Posted','Link_Job_Company','Link_Job_Indeed','Location','Rating_In_Stars','Job_Description'])\n",
    "\n",
    "    x = 0\n",
    "    y = 0\n",
    "    for j in range(max_search // 50):\n",
    "        #z = 0\n",
    "        job_elements =  browser.find_elements_by_xpath(\"//div[@class='row result clickcard']\")\n",
    "        try:\n",
    "            job_elements.append(browser.find_element_by_xpath(\"//div[@class='lastRow row result clickcard']\"))\n",
    "        except Exception:\n",
    "            pass\n",
    "\n",
    "        for i in range(len(job_elements)):\n",
    "\n",
    "            redirect_to_comp_site = job_elements[i].find_element_by_tag_name('a').get_attribute('href')\n",
    "\n",
    "            try:\n",
    "                estimated_salary = job_elements[i].find_element_by_class_name('no-wrap').text\n",
    "            except NoSuchElementException:\n",
    "                estimated_salary = 'NA'\n",
    "\n",
    "            date = job_elements[i].find_element_by_class_name('date').text   \n",
    "            job_elements[i].click()\n",
    "    #        browser.implicitly_wait(3)\n",
    "\n",
    "            browser.switch_to_window(browser.window_handles[1])\n",
    "            sleep(random.randint(0,3))\n",
    "            indeed_link = browser.current_url\n",
    "            retry_count = 0\n",
    "            while True:\n",
    "                try:\n",
    "                    retry_count += 1\n",
    "                    title =  browser.find_element_by_class_name('jobtitle').text\n",
    "                    post = browser.find_element_by_id('job_summary').text\n",
    "                    company = browser.find_element_by_class_name('company').text\n",
    "                    location = browser.find_element_by_class_name('location').text\n",
    "                    break\n",
    "                except NoSuchElementException:\n",
    "                    if retry_count > 5:\n",
    "                        print('Unable to fetch data. Skipping Page.....')\n",
    "                        break\n",
    "                    else:\n",
    "                        print('Unable to fetch data. Retrying....')\n",
    "\n",
    "\n",
    "\n",
    "\n",
    "\n",
    "            #Can be replaced by  browser.find_element_by_class_name('rating')[0].size['width']\n",
    "            #But it rounds that up\n",
    "            try:\n",
    "                rtng_style_str = browser.find_element_by_class_name('rating').get_attribute('style')\n",
    "                rtng_style_int = float(rtng_style_str.split(' ')[1][:-3])\n",
    "                rating = (rtng_style_int*5)/max_rating\n",
    "            except NoSuchElementException:\n",
    "                rating = 'NA'\n",
    "\n",
    "\n",
    "            print('Completed Post {} of Page {} - {}'.format(i+1,j+1,title))\n",
    "\n",
    "            data = data.append({'Job_Title':title,'Company':company,'Link_Job_Company':redirect_to_comp_site,'Estimated_Salary':estimated_salary,'Date_Posted':date,'Link_Job_Indeed':indeed_link,'Location':location,'Rating_In_Stars':rating,'Job_Description':post},ignore_index=True)    \n",
    "            browser.close()\n",
    "            browser.switch_to_window(browser.window_handles[0])\n",
    "\n",
    "\n",
    "\n",
    "\n",
    "\n",
    "\n",
    "        y += 50\n",
    "\n",
    "        url = url.replace('start=' + str(x),'start=' +str(x+50))\n",
    "        x+= 50\n",
    "\n",
    "        browser.get(url)\n",
    "        print('Moving on to page ' + str(j+2))\n",
    "        sleep(2)\n",
    "        try:\n",
    "            #Only on 2nd page\n",
    "            browser.find_element_by_id('popover-x-button').click()\n",
    "        except:\n",
    "            print('No Newsletter Popup Found')\n",
    "            \n",
    "    if save_csv:\n",
    "        data.to_csv(search + '.csv')\n",
    "        \n",
    "\n",
    "    \n",
    "    "
   ]
  },
  {
   "cell_type": "code",
   "execution_count": null,
   "metadata": {},
   "outputs": [],
   "source": [
    "scrap_indeed('machine learning',1500) #27th Jan\n",
    "scrap_indeed('artificial intelligence',1500) #27th Jan\n",
    "scrap_indeed('data scientist',1500) #28th Jan"
   ]
  },
  {
   "cell_type": "code",
   "execution_count": null,
   "metadata": {
    "collapsed": true
   },
   "outputs": [],
   "source": []
  },
  {
   "cell_type": "code",
   "execution_count": null,
   "metadata": {
    "collapsed": true
   },
   "outputs": [],
   "source": []
  },
  {
   "cell_type": "code",
   "execution_count": null,
   "metadata": {
    "collapsed": true
   },
   "outputs": [],
   "source": []
  },
  {
   "cell_type": "code",
   "execution_count": null,
   "metadata": {
    "collapsed": true
   },
   "outputs": [],
   "source": []
  },
  {
   "cell_type": "code",
   "execution_count": null,
   "metadata": {
    "collapsed": true
   },
   "outputs": [],
   "source": []
  },
  {
   "cell_type": "code",
   "execution_count": null,
   "metadata": {
    "collapsed": true
   },
   "outputs": [],
   "source": []
  },
  {
   "cell_type": "code",
   "execution_count": null,
   "metadata": {
    "collapsed": true
   },
   "outputs": [],
   "source": []
  },
  {
   "cell_type": "code",
   "execution_count": null,
   "metadata": {
    "collapsed": true
   },
   "outputs": [],
   "source": []
  },
  {
   "cell_type": "code",
   "execution_count": null,
   "metadata": {
    "collapsed": true
   },
   "outputs": [],
   "source": []
  },
  {
   "cell_type": "code",
   "execution_count": null,
   "metadata": {
    "collapsed": true
   },
   "outputs": [],
   "source": []
  }
 ],
 "metadata": {
  "kernelspec": {
   "display_name": "Python 3",
   "language": "python",
   "name": "python3"
  },
  "language_info": {
   "codemirror_mode": {
    "name": "ipython",
    "version": 3
   },
   "file_extension": ".py",
   "mimetype": "text/x-python",
   "name": "python",
   "nbconvert_exporter": "python",
   "pygments_lexer": "ipython3",
   "version": "3.6.1"
  }
 },
 "nbformat": 4,
 "nbformat_minor": 2
}
